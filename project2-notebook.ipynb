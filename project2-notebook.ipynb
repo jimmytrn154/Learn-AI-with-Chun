{
  "cells": [
    {
      "cell_type": "markdown",
      "metadata": {
        "id": "FdUXNAkLa38p"
      },
      "source": [
        "# Project 2: DATA1010\n",
        "### Rubric\n",
        "\n",
        "| Section | Task                                                | Required in Code | Required in Report | Points |\n",
        "|---------|-----------------------------------------------------|------------------|---------------------|--------|\n",
        "|     | **Data Preparation**                                |                  |                     |        |\n",
        "| 2.1.    | Check and report any data issues                   | Yes              | Yes                 | 5      |\n",
        "| 2.2.    | Convert the categorical feature `class` to numeric | Yes              | No                  | 5      |\n",
        "|     | **Linear Regression**                               |                  |                     |        |\n",
        "| 3.2.1.  | Compute the regression coefficients                 | Yes              | Yes                 | 5      |\n",
        "| 3.2.2.  | Evaluate the regression loss using MSE and MAE      | Yes              | Yes                 | 5      |\n",
        "| 3.3.1.  | Visualize the effect of varying bias               | Yes              | Yes                 | 5      |\n",
        "| 3.3.2.  | Analyze the effect of varying bias                 | No               | Yes                 | 5      |\n",
        "| 3.4.1.  | Identify all possible subsets of 6 features        | Yes              | No                  | 5      |\n",
        "| 3.4.2.  | Compute the regression coefficients for each subset | Yes              | Yes                 | 5      |\n",
        "| 3.4.3.  | Evaluate the regression loss for each subset       | Yes              | Yes                 | 5      |\n",
        "| 3.4.4.  | Analyze and compare the performance across subsets | Yes              | Yes                 | 5      |\n",
        "|     | **Classification**                                  |                  |                     |        |\n",
        "| 4.2.1.  | Convert labels for logistic regression             | Yes              | No                  | 5      |\n",
        "| 4.2.2.  | Fit the logistic regression model                  | Yes              | Yes                 | 5      |\n",
        "| 4.2.3.  | Evaluate the logistic regression model             | Yes              | Yes                 | 5      |\n",
        "| 4.2.4.  | Report and comment on the results                  | No               | Yes                 | 5      |\n",
        "| 4.3.1.  | Fit the SVM model                                  | Yes              | Yes                 | 5      |\n",
        "| 4.3.2.  | Evaluate the SVM model                             | Yes              | Yes                 | 5      |\n",
        "| 4.4.1.  | Evaluate the sensitivity of models                 | Yes              | Yes                 | 5      |\n",
        "| 4.4.2.  | Perform the sensitivity analysis                    | Yes              | Yes                 | 5      |\n",
        "|     | **Comprehensiveness**                               |                  |                     |        |\n",
        "|         | Present the code and written report               | Yes              | Yes                 | 10     |\n",
        "| **Total** |                                                   |                  |                     | **100** |\n",
        "\n",
        "\n",
        "### Deduction Rules\n",
        "\n",
        "- **Half a point deduction per issue per question for the following:**\n",
        "    - Graphs or figures without proper titles, labels, or explanations.\n",
        "    - Content in the written report that is too small or difficult to read (Tip: print out your report and attempt to read it with the bare eyes).\n",
        "    - Code screenshots taken in dark mode.\n",
        "    - Code lacking proper sections or comments.\n",
        "\n",
        "- **A deduction of at least 10/100 of the total points for the following issues:**\n",
        "    - Lack of proper references.\n",
        "    - Code link not provided, not runnable, or unauthorized.\n"
      ]
    },
    {
      "cell_type": "markdown",
      "metadata": {
        "id": "5jMj-avmUshv"
      },
      "source": [
        "# 1. Load dataset\n",
        "\n",
        "*Please do not edit this cell.*"
      ]
    },
    {
      "cell_type": "code",
      "execution_count": 57,
      "metadata": {
        "colab": {
          "base_uri": "https://localhost:8080/"
        },
        "id": "mFD2JYsJB5kz",
        "outputId": "840fd64d-4dd8-4e50-c53f-dff728e44fad"
      },
      "outputs": [
        {
          "name": "stdout",
          "output_type": "stream",
          "text": [
            "\n",
            "Diabetes Dataset:\n",
            "<class 'pandas.core.frame.DataFrame'>\n",
            "RangeIndex: 768 entries, 0 to 767\n",
            "Data columns (total 9 columns):\n",
            " #   Column  Non-Null Count  Dtype   \n",
            "---  ------  --------------  -----   \n",
            " 0   preg    768 non-null    int64   \n",
            " 1   plas    768 non-null    int64   \n",
            " 2   pres    768 non-null    int64   \n",
            " 3   skin    768 non-null    int64   \n",
            " 4   insu    768 non-null    int64   \n",
            " 5   mass    768 non-null    float64 \n",
            " 6   pedi    768 non-null    float64 \n",
            " 7   age     768 non-null    int64   \n",
            " 8   class   768 non-null    category\n",
            "dtypes: category(1), float64(2), int64(6)\n",
            "memory usage: 49.0 KB\n",
            "Info\n",
            " None\n",
            "Head\n",
            "    preg  plas  pres  skin  insu  mass   pedi  age            class\n",
            "0     6   148    72    35     0  33.6  0.627   50  tested_positive\n",
            "1     1    85    66    29     0  26.6  0.351   31  tested_negative\n",
            "2     8   183    64     0     0  23.3  0.672   32  tested_positive\n",
            "3     1    89    66    23    94  28.1  0.167   21  tested_negative\n",
            "4     0   137    40    35   168  43.1  2.288   33  tested_positive\n",
            "Describe\n",
            "              preg        plas        pres        skin        insu        mass  \\\n",
            "count  768.000000  768.000000  768.000000  768.000000  768.000000  768.000000   \n",
            "mean     3.845052  120.894531   69.105469   20.536458   79.799479   31.992578   \n",
            "std      3.369578   31.972618   19.355807   15.952218  115.244002    7.884160   \n",
            "min      0.000000    0.000000    0.000000    0.000000    0.000000    0.000000   \n",
            "25%      1.000000   99.000000   62.000000    0.000000    0.000000   27.300000   \n",
            "50%      3.000000  117.000000   72.000000   23.000000   30.500000   32.000000   \n",
            "75%      6.000000  140.250000   80.000000   32.000000  127.250000   36.600000   \n",
            "max     17.000000  199.000000  122.000000   99.000000  846.000000   67.100000   \n",
            "\n",
            "             pedi         age  \n",
            "count  768.000000  768.000000  \n",
            "mean     0.471876   33.240885  \n",
            "std      0.331329   11.760232  \n",
            "min      0.078000   21.000000  \n",
            "25%      0.243750   24.000000  \n",
            "50%      0.372500   29.000000  \n",
            "75%      0.626250   41.000000  \n",
            "max      2.420000   81.000000  \n",
            "Data\n",
            "      preg  plas  pres  skin  insu  mass   pedi  age            class\n",
            "0       6   148    72    35     0  33.6  0.627   50  tested_positive\n",
            "1       1    85    66    29     0  26.6  0.351   31  tested_negative\n",
            "2       8   183    64     0     0  23.3  0.672   32  tested_positive\n",
            "3       1    89    66    23    94  28.1  0.167   21  tested_negative\n",
            "4       0   137    40    35   168  43.1  2.288   33  tested_positive\n",
            "..    ...   ...   ...   ...   ...   ...    ...  ...              ...\n",
            "763    10   101    76    48   180  32.9  0.171   63  tested_negative\n",
            "764     2   122    70    27     0  36.8  0.340   27  tested_negative\n",
            "765     5   121    72    23   112  26.2  0.245   30  tested_negative\n",
            "766     1   126    60     0     0  30.1  0.349   47  tested_positive\n",
            "767     1    93    70    31     0  30.4  0.315   23  tested_negative\n",
            "\n",
            "[768 rows x 9 columns]\n"
          ]
        }
      ],
      "source": [
        "import numpy as np\n",
        "import pandas as pd\n",
        "import matplotlib.pyplot as plt\n",
        "from sklearn.model_selection import train_test_split\n",
        "from sklearn.datasets import fetch_openml\n",
        "\n",
        "# Load Diabetes Dataset from OpenML\n",
        "diabetes = fetch_openml(name='diabetes', version=1, as_frame=True)\n",
        "df = diabetes.frame\n",
        "print(\"\\nDiabetes Dataset:\")\n",
        "\n",
        "# Exploratory Data Analysis (EDA)\n",
        "print(\"Info\\n\",df.info())\n",
        "print(\"Head\\n\",df.head())\n",
        "print(\"Describe\\n\",df.describe())\n",
        "print(\"Data\\n\",df)"
      ]
    },
    {
      "cell_type": "markdown",
      "metadata": {
        "id": "RSIjZlJJVMyz"
      },
      "source": [
        "# 2. Data Preparation (10 points)\n"
      ]
    },
    {
      "cell_type": "markdown",
      "metadata": {
        "id": "jiBPWeFqth_i"
      },
      "source": [
        "## 2.1. Check and report any data issues  (5 points)\n",
        "Identify and report any missing values, duplicates, or inconsistencies in the dataset.  \n"
      ]
    },
    {
      "cell_type": "code",
      "execution_count": 58,
      "metadata": {
        "id": "eIExqU7isCgH"
      },
      "outputs": [
        {
          "data": {
            "text/html": [
              "<div>\n",
              "<style scoped>\n",
              "    .dataframe tbody tr th:only-of-type {\n",
              "        vertical-align: middle;\n",
              "    }\n",
              "\n",
              "    .dataframe tbody tr th {\n",
              "        vertical-align: top;\n",
              "    }\n",
              "\n",
              "    .dataframe thead th {\n",
              "        text-align: right;\n",
              "    }\n",
              "</style>\n",
              "<table border=\"1\" class=\"dataframe\">\n",
              "  <thead>\n",
              "    <tr style=\"text-align: right;\">\n",
              "      <th></th>\n",
              "      <th>preg</th>\n",
              "      <th>plas</th>\n",
              "      <th>pres</th>\n",
              "      <th>skin</th>\n",
              "      <th>insu</th>\n",
              "      <th>mass</th>\n",
              "      <th>pedi</th>\n",
              "      <th>age</th>\n",
              "      <th>class</th>\n",
              "    </tr>\n",
              "  </thead>\n",
              "  <tbody>\n",
              "    <tr>\n",
              "      <th>count</th>\n",
              "      <td>768.000000</td>\n",
              "      <td>768.000000</td>\n",
              "      <td>768.000000</td>\n",
              "      <td>768.000000</td>\n",
              "      <td>768.000000</td>\n",
              "      <td>768.000000</td>\n",
              "      <td>768.000000</td>\n",
              "      <td>768.000000</td>\n",
              "      <td>768</td>\n",
              "    </tr>\n",
              "    <tr>\n",
              "      <th>unique</th>\n",
              "      <td>NaN</td>\n",
              "      <td>NaN</td>\n",
              "      <td>NaN</td>\n",
              "      <td>NaN</td>\n",
              "      <td>NaN</td>\n",
              "      <td>NaN</td>\n",
              "      <td>NaN</td>\n",
              "      <td>NaN</td>\n",
              "      <td>2</td>\n",
              "    </tr>\n",
              "    <tr>\n",
              "      <th>top</th>\n",
              "      <td>NaN</td>\n",
              "      <td>NaN</td>\n",
              "      <td>NaN</td>\n",
              "      <td>NaN</td>\n",
              "      <td>NaN</td>\n",
              "      <td>NaN</td>\n",
              "      <td>NaN</td>\n",
              "      <td>NaN</td>\n",
              "      <td>tested_negative</td>\n",
              "    </tr>\n",
              "    <tr>\n",
              "      <th>freq</th>\n",
              "      <td>NaN</td>\n",
              "      <td>NaN</td>\n",
              "      <td>NaN</td>\n",
              "      <td>NaN</td>\n",
              "      <td>NaN</td>\n",
              "      <td>NaN</td>\n",
              "      <td>NaN</td>\n",
              "      <td>NaN</td>\n",
              "      <td>500</td>\n",
              "    </tr>\n",
              "    <tr>\n",
              "      <th>mean</th>\n",
              "      <td>3.845052</td>\n",
              "      <td>120.894531</td>\n",
              "      <td>69.105469</td>\n",
              "      <td>20.536458</td>\n",
              "      <td>79.799479</td>\n",
              "      <td>31.992578</td>\n",
              "      <td>0.471876</td>\n",
              "      <td>33.240885</td>\n",
              "      <td>NaN</td>\n",
              "    </tr>\n",
              "    <tr>\n",
              "      <th>std</th>\n",
              "      <td>3.369578</td>\n",
              "      <td>31.972618</td>\n",
              "      <td>19.355807</td>\n",
              "      <td>15.952218</td>\n",
              "      <td>115.244002</td>\n",
              "      <td>7.884160</td>\n",
              "      <td>0.331329</td>\n",
              "      <td>11.760232</td>\n",
              "      <td>NaN</td>\n",
              "    </tr>\n",
              "    <tr>\n",
              "      <th>min</th>\n",
              "      <td>0.000000</td>\n",
              "      <td>0.000000</td>\n",
              "      <td>0.000000</td>\n",
              "      <td>0.000000</td>\n",
              "      <td>0.000000</td>\n",
              "      <td>0.000000</td>\n",
              "      <td>0.078000</td>\n",
              "      <td>21.000000</td>\n",
              "      <td>NaN</td>\n",
              "    </tr>\n",
              "    <tr>\n",
              "      <th>25%</th>\n",
              "      <td>1.000000</td>\n",
              "      <td>99.000000</td>\n",
              "      <td>62.000000</td>\n",
              "      <td>0.000000</td>\n",
              "      <td>0.000000</td>\n",
              "      <td>27.300000</td>\n",
              "      <td>0.243750</td>\n",
              "      <td>24.000000</td>\n",
              "      <td>NaN</td>\n",
              "    </tr>\n",
              "    <tr>\n",
              "      <th>50%</th>\n",
              "      <td>3.000000</td>\n",
              "      <td>117.000000</td>\n",
              "      <td>72.000000</td>\n",
              "      <td>23.000000</td>\n",
              "      <td>30.500000</td>\n",
              "      <td>32.000000</td>\n",
              "      <td>0.372500</td>\n",
              "      <td>29.000000</td>\n",
              "      <td>NaN</td>\n",
              "    </tr>\n",
              "    <tr>\n",
              "      <th>75%</th>\n",
              "      <td>6.000000</td>\n",
              "      <td>140.250000</td>\n",
              "      <td>80.000000</td>\n",
              "      <td>32.000000</td>\n",
              "      <td>127.250000</td>\n",
              "      <td>36.600000</td>\n",
              "      <td>0.626250</td>\n",
              "      <td>41.000000</td>\n",
              "      <td>NaN</td>\n",
              "    </tr>\n",
              "    <tr>\n",
              "      <th>max</th>\n",
              "      <td>17.000000</td>\n",
              "      <td>199.000000</td>\n",
              "      <td>122.000000</td>\n",
              "      <td>99.000000</td>\n",
              "      <td>846.000000</td>\n",
              "      <td>67.100000</td>\n",
              "      <td>2.420000</td>\n",
              "      <td>81.000000</td>\n",
              "      <td>NaN</td>\n",
              "    </tr>\n",
              "  </tbody>\n",
              "</table>\n",
              "</div>"
            ],
            "text/plain": [
              "              preg        plas        pres        skin        insu  \\\n",
              "count   768.000000  768.000000  768.000000  768.000000  768.000000   \n",
              "unique         NaN         NaN         NaN         NaN         NaN   \n",
              "top            NaN         NaN         NaN         NaN         NaN   \n",
              "freq           NaN         NaN         NaN         NaN         NaN   \n",
              "mean      3.845052  120.894531   69.105469   20.536458   79.799479   \n",
              "std       3.369578   31.972618   19.355807   15.952218  115.244002   \n",
              "min       0.000000    0.000000    0.000000    0.000000    0.000000   \n",
              "25%       1.000000   99.000000   62.000000    0.000000    0.000000   \n",
              "50%       3.000000  117.000000   72.000000   23.000000   30.500000   \n",
              "75%       6.000000  140.250000   80.000000   32.000000  127.250000   \n",
              "max      17.000000  199.000000  122.000000   99.000000  846.000000   \n",
              "\n",
              "              mass        pedi         age            class  \n",
              "count   768.000000  768.000000  768.000000              768  \n",
              "unique         NaN         NaN         NaN                2  \n",
              "top            NaN         NaN         NaN  tested_negative  \n",
              "freq           NaN         NaN         NaN              500  \n",
              "mean     31.992578    0.471876   33.240885              NaN  \n",
              "std       7.884160    0.331329   11.760232              NaN  \n",
              "min       0.000000    0.078000   21.000000              NaN  \n",
              "25%      27.300000    0.243750   24.000000              NaN  \n",
              "50%      32.000000    0.372500   29.000000              NaN  \n",
              "75%      36.600000    0.626250   41.000000              NaN  \n",
              "max      67.100000    2.420000   81.000000              NaN  "
            ]
          },
          "execution_count": 58,
          "metadata": {},
          "output_type": "execute_result"
        }
      ],
      "source": [
        "# Place your code for 2.1. here\n",
        "df.describe(include='all')"
      ]
    },
    {
      "cell_type": "code",
      "execution_count": 59,
      "metadata": {},
      "outputs": [
        {
          "data": {
            "text/plain": [
              "class\n",
              "tested_negative    500\n",
              "tested_positive    268\n",
              "Name: count, dtype: int64"
            ]
          },
          "execution_count": 59,
          "metadata": {},
          "output_type": "execute_result"
        }
      ],
      "source": [
        "df['class'].value_counts()"
      ]
    },
    {
      "cell_type": "code",
      "execution_count": 60,
      "metadata": {},
      "outputs": [
        {
          "data": {
            "text/plain": [
              "preg     0\n",
              "plas     0\n",
              "pres     0\n",
              "skin     0\n",
              "insu     0\n",
              "mass     0\n",
              "pedi     0\n",
              "age      0\n",
              "class    0\n",
              "dtype: int64"
            ]
          },
          "execution_count": 60,
          "metadata": {},
          "output_type": "execute_result"
        }
      ],
      "source": [
        "df.isnull().sum()"
      ]
    },
    {
      "cell_type": "code",
      "execution_count": 61,
      "metadata": {},
      "outputs": [
        {
          "data": {
            "text/plain": [
              "array([50, 31, 32, 21, 33, 30, 26, 29, 53, 54, 34, 57, 59, 51, 27, 41, 43,\n",
              "       22, 38, 60, 28, 45, 35, 46, 56, 37, 48, 40, 25, 24, 58, 42, 44, 39,\n",
              "       36, 23, 61, 69, 62, 55, 65, 47, 52, 66, 49, 63, 67, 72, 81, 64, 70,\n",
              "       68])"
            ]
          },
          "execution_count": 61,
          "metadata": {},
          "output_type": "execute_result"
        }
      ],
      "source": [
        "df['age'].unique()"
      ]
    },
    {
      "cell_type": "code",
      "execution_count": 62,
      "metadata": {},
      "outputs": [
        {
          "name": "stdout",
          "output_type": "stream",
          "text": [
            "<class 'pandas.core.frame.DataFrame'>\n",
            "RangeIndex: 768 entries, 0 to 767\n",
            "Data columns (total 9 columns):\n",
            " #   Column  Non-Null Count  Dtype   \n",
            "---  ------  --------------  -----   \n",
            " 0   preg    768 non-null    int64   \n",
            " 1   plas    768 non-null    int64   \n",
            " 2   pres    768 non-null    int64   \n",
            " 3   skin    768 non-null    int64   \n",
            " 4   insu    768 non-null    int64   \n",
            " 5   mass    768 non-null    float64 \n",
            " 6   pedi    768 non-null    float64 \n",
            " 7   age     768 non-null    int64   \n",
            " 8   class   768 non-null    category\n",
            "dtypes: category(1), float64(2), int64(6)\n",
            "memory usage: 49.0 KB\n"
          ]
        }
      ],
      "source": [
        "df.info()"
      ]
    },
    {
      "cell_type": "markdown",
      "metadata": {
        "id": "aoKqDbaLsJ4O"
      },
      "source": [
        "## 2.2. Convert the categorical feature `class` to numeric (5 points)\n",
        "Transform the categorical featue 'class' into a numeric format\n",
        "*   'tested_positive' $\\rightarrow 1$\n",
        "*   'tested_negative' $\\rightarrow -1$"
      ]
    },
    {
      "cell_type": "code",
      "execution_count": 63,
      "metadata": {},
      "outputs": [
        {
          "data": {
            "text/html": [
              "<div>\n",
              "<style scoped>\n",
              "    .dataframe tbody tr th:only-of-type {\n",
              "        vertical-align: middle;\n",
              "    }\n",
              "\n",
              "    .dataframe tbody tr th {\n",
              "        vertical-align: top;\n",
              "    }\n",
              "\n",
              "    .dataframe thead th {\n",
              "        text-align: right;\n",
              "    }\n",
              "</style>\n",
              "<table border=\"1\" class=\"dataframe\">\n",
              "  <thead>\n",
              "    <tr style=\"text-align: right;\">\n",
              "      <th></th>\n",
              "      <th>preg</th>\n",
              "      <th>plas</th>\n",
              "      <th>pres</th>\n",
              "      <th>skin</th>\n",
              "      <th>insu</th>\n",
              "      <th>mass</th>\n",
              "      <th>pedi</th>\n",
              "      <th>age</th>\n",
              "      <th>class</th>\n",
              "    </tr>\n",
              "  </thead>\n",
              "  <tbody>\n",
              "    <tr>\n",
              "      <th>0</th>\n",
              "      <td>6</td>\n",
              "      <td>148</td>\n",
              "      <td>72</td>\n",
              "      <td>35</td>\n",
              "      <td>0</td>\n",
              "      <td>33.6</td>\n",
              "      <td>0.627</td>\n",
              "      <td>50</td>\n",
              "      <td>tested_positive</td>\n",
              "    </tr>\n",
              "    <tr>\n",
              "      <th>1</th>\n",
              "      <td>1</td>\n",
              "      <td>85</td>\n",
              "      <td>66</td>\n",
              "      <td>29</td>\n",
              "      <td>0</td>\n",
              "      <td>26.6</td>\n",
              "      <td>0.351</td>\n",
              "      <td>31</td>\n",
              "      <td>tested_negative</td>\n",
              "    </tr>\n",
              "    <tr>\n",
              "      <th>2</th>\n",
              "      <td>8</td>\n",
              "      <td>183</td>\n",
              "      <td>64</td>\n",
              "      <td>0</td>\n",
              "      <td>0</td>\n",
              "      <td>23.3</td>\n",
              "      <td>0.672</td>\n",
              "      <td>32</td>\n",
              "      <td>tested_positive</td>\n",
              "    </tr>\n",
              "    <tr>\n",
              "      <th>3</th>\n",
              "      <td>1</td>\n",
              "      <td>89</td>\n",
              "      <td>66</td>\n",
              "      <td>23</td>\n",
              "      <td>94</td>\n",
              "      <td>28.1</td>\n",
              "      <td>0.167</td>\n",
              "      <td>21</td>\n",
              "      <td>tested_negative</td>\n",
              "    </tr>\n",
              "    <tr>\n",
              "      <th>4</th>\n",
              "      <td>0</td>\n",
              "      <td>137</td>\n",
              "      <td>40</td>\n",
              "      <td>35</td>\n",
              "      <td>168</td>\n",
              "      <td>43.1</td>\n",
              "      <td>2.288</td>\n",
              "      <td>33</td>\n",
              "      <td>tested_positive</td>\n",
              "    </tr>\n",
              "  </tbody>\n",
              "</table>\n",
              "</div>"
            ],
            "text/plain": [
              "   preg  plas  pres  skin  insu  mass   pedi  age            class\n",
              "0     6   148    72    35     0  33.6  0.627   50  tested_positive\n",
              "1     1    85    66    29     0  26.6  0.351   31  tested_negative\n",
              "2     8   183    64     0     0  23.3  0.672   32  tested_positive\n",
              "3     1    89    66    23    94  28.1  0.167   21  tested_negative\n",
              "4     0   137    40    35   168  43.1  2.288   33  tested_positive"
            ]
          },
          "execution_count": 63,
          "metadata": {},
          "output_type": "execute_result"
        }
      ],
      "source": [
        "df.head()"
      ]
    },
    {
      "cell_type": "code",
      "execution_count": 64,
      "metadata": {
        "id": "qsKOv2H2VLxv"
      },
      "outputs": [
        {
          "name": "stderr",
          "output_type": "stream",
          "text": [
            "C:\\Users\\jimmy\\AppData\\Local\\Temp\\ipykernel_12580\\1291186112.py:2: FutureWarning: Downcasting behavior in `replace` is deprecated and will be removed in a future version. To retain the old behavior, explicitly call `result.infer_objects(copy=False)`. To opt-in to the future behavior, set `pd.set_option('future.no_silent_downcasting', True)`\n",
            "  df['class'] = df['class'].replace({'tested_negative': -1, 'tested_positive': 1})\n",
            "C:\\Users\\jimmy\\AppData\\Local\\Temp\\ipykernel_12580\\1291186112.py:2: FutureWarning: The behavior of Series.replace (and DataFrame.replace) with CategoricalDtype is deprecated. In a future version, replace will only be used for cases that preserve the categories. To change the categories, use ser.cat.rename_categories instead.\n",
            "  df['class'] = df['class'].replace({'tested_negative': -1, 'tested_positive': 1})\n"
          ]
        },
        {
          "data": {
            "text/html": [
              "<div>\n",
              "<style scoped>\n",
              "    .dataframe tbody tr th:only-of-type {\n",
              "        vertical-align: middle;\n",
              "    }\n",
              "\n",
              "    .dataframe tbody tr th {\n",
              "        vertical-align: top;\n",
              "    }\n",
              "\n",
              "    .dataframe thead th {\n",
              "        text-align: right;\n",
              "    }\n",
              "</style>\n",
              "<table border=\"1\" class=\"dataframe\">\n",
              "  <thead>\n",
              "    <tr style=\"text-align: right;\">\n",
              "      <th></th>\n",
              "      <th>preg</th>\n",
              "      <th>plas</th>\n",
              "      <th>pres</th>\n",
              "      <th>skin</th>\n",
              "      <th>insu</th>\n",
              "      <th>mass</th>\n",
              "      <th>pedi</th>\n",
              "      <th>age</th>\n",
              "      <th>class</th>\n",
              "    </tr>\n",
              "  </thead>\n",
              "  <tbody>\n",
              "    <tr>\n",
              "      <th>0</th>\n",
              "      <td>6</td>\n",
              "      <td>148</td>\n",
              "      <td>72</td>\n",
              "      <td>35</td>\n",
              "      <td>0</td>\n",
              "      <td>33.6</td>\n",
              "      <td>0.627</td>\n",
              "      <td>50</td>\n",
              "      <td>1</td>\n",
              "    </tr>\n",
              "    <tr>\n",
              "      <th>1</th>\n",
              "      <td>1</td>\n",
              "      <td>85</td>\n",
              "      <td>66</td>\n",
              "      <td>29</td>\n",
              "      <td>0</td>\n",
              "      <td>26.6</td>\n",
              "      <td>0.351</td>\n",
              "      <td>31</td>\n",
              "      <td>-1</td>\n",
              "    </tr>\n",
              "    <tr>\n",
              "      <th>2</th>\n",
              "      <td>8</td>\n",
              "      <td>183</td>\n",
              "      <td>64</td>\n",
              "      <td>0</td>\n",
              "      <td>0</td>\n",
              "      <td>23.3</td>\n",
              "      <td>0.672</td>\n",
              "      <td>32</td>\n",
              "      <td>1</td>\n",
              "    </tr>\n",
              "    <tr>\n",
              "      <th>3</th>\n",
              "      <td>1</td>\n",
              "      <td>89</td>\n",
              "      <td>66</td>\n",
              "      <td>23</td>\n",
              "      <td>94</td>\n",
              "      <td>28.1</td>\n",
              "      <td>0.167</td>\n",
              "      <td>21</td>\n",
              "      <td>-1</td>\n",
              "    </tr>\n",
              "    <tr>\n",
              "      <th>4</th>\n",
              "      <td>0</td>\n",
              "      <td>137</td>\n",
              "      <td>40</td>\n",
              "      <td>35</td>\n",
              "      <td>168</td>\n",
              "      <td>43.1</td>\n",
              "      <td>2.288</td>\n",
              "      <td>33</td>\n",
              "      <td>1</td>\n",
              "    </tr>\n",
              "  </tbody>\n",
              "</table>\n",
              "</div>"
            ],
            "text/plain": [
              "   preg  plas  pres  skin  insu  mass   pedi  age class\n",
              "0     6   148    72    35     0  33.6  0.627   50     1\n",
              "1     1    85    66    29     0  26.6  0.351   31    -1\n",
              "2     8   183    64     0     0  23.3  0.672   32     1\n",
              "3     1    89    66    23    94  28.1  0.167   21    -1\n",
              "4     0   137    40    35   168  43.1  2.288   33     1"
            ]
          },
          "execution_count": 64,
          "metadata": {},
          "output_type": "execute_result"
        }
      ],
      "source": [
        "# Place your code for 2.2. here\n",
        "df['class'] = df['class'].replace({'tested_negative': -1, 'tested_positive': 1})\n",
        "df.head()"
      ]
    },
    {
      "cell_type": "markdown",
      "metadata": {
        "id": "YE9JE_oYVj_J"
      },
      "source": [
        "# 3. Linear Regression Model (40 points)\n",
        "\n",
        "Linear regression is a statistical method used to model the relationship between a dependent variable (target) and one or more independent variables (features). In this example, we will use the `plas` (plasma glucose concentration) as the target and the remaining (without `class`) as features. It assumes a linear relationship between the variables, which can be represented as:\n",
        "$$\n",
        "y = X \\cdot \\beta + \\beta_0 + \\epsilon,\n",
        "$$\n",
        "\n",
        "where:\n",
        "- $y$ is the target variable (dependent variable: plasma glucose concentration).\n",
        "- $X$ is the feature matrix (independent variables: age, BMI, etc.).\n",
        "- $\\beta_0$ is the bias term (intercept).\n",
        "- $\\beta$ is the regression vector (coefficients or weights).\n",
        "- $\\epsilon$ is the error term (the difference between predicted and actual values).\n",
        "\n",
        "The goal of linear regression is to find the best regression vector $\\beta$ and bias term $\\beta_0$ that minimize the error term $\\epsilon$, which can be evaluated using metrics like **Mean Squared Error (MSE)** and **Mean Absolute Error (MAE)**.\n",
        "\n",
        "1. **Mean Squared Error (MSE)**:\n",
        "   \n",
        "   MSE measures the average squared difference between the predicted values $\\hat{y}$ and the actual values $y$. It is defined as:\n",
        "\n",
        "   $$\n",
        "   \\text{MSE} = \\frac{1}{n} \\sum_{i=1}^{n} (y_i - \\hat{y}_i)^2\n",
        "   $$\n",
        "\n",
        "\n",
        "2. **Mean Absolute Error (MAE)**:\n",
        "   \n",
        "   MAE measures the average absolute difference between the predicted values $\\hat{y}$ and the actual values $y$. It is defined as:\n",
        "\n",
        "   $$\n",
        "   \\text{MAE} = \\frac{1}{n} \\sum_{i=1}^{n} |y_i - \\hat{y}_i|\n",
        "   $$\n",
        "\n",
        "\n",
        "Here,\n",
        "- $n$ is the number of samples.\n",
        "- $y_i$ is the actual value for the $i$-th sample.\n",
        "- $\\hat{y}_i$ is the predicted value for the $i$-th sample.\n",
        "\n",
        "\n",
        "*Please do not edit this cell.*"
      ]
    },
    {
      "cell_type": "code",
      "execution_count": 65,
      "metadata": {
        "id": "9_tAhkNpbo-a"
      },
      "outputs": [],
      "source": [
        "# Prediction function using X, beta, and bias (beta_0)\n",
        "def predict(X, beta, beta_0):\n",
        "    return beta_0 + np.dot(X, beta)\n",
        "\n",
        "# Mean Squared Error (MSE) Function using X, y, beta, and beta_0\n",
        "def mean_squared_error(X, y, beta, beta_0):\n",
        "    y_pred = predict(X, beta, beta_0)\n",
        "    return np.mean((y - y_pred) ** 2)\n",
        "\n",
        "# Mean Absolute Error (MAE) Function using X, y, beta, and beta_0\n",
        "def mean_absolute_error(X, y, beta, beta_0):\n",
        "    y_pred = predict(X, beta, beta_0)\n",
        "    return np.mean(np.abs(y - y_pred))"
      ]
    },
    {
      "cell_type": "markdown",
      "metadata": {
        "id": "w3QxpM_-Ytoo"
      },
      "source": [
        "## 3.1 Data Splitting\n",
        "We will split dataset into training and testing datasets.\n",
        "\n",
        "*Please do not edit this cell.*"
      ]
    },
    {
      "cell_type": "code",
      "execution_count": 66,
      "metadata": {
        "colab": {
          "base_uri": "https://localhost:8080/",
          "height": 732
        },
        "collapsed": true,
        "id": "QZi-VI59E8DS",
        "outputId": "26851c1b-2e84-4afb-ddba-e1d377e52ffa"
      },
      "outputs": [
        {
          "name": "stdout",
          "output_type": "stream",
          "text": [
            "\n",
            "Shape of training set (X_train_reg): (614, 7)\n",
            "Shape of testing set (X_test_reg): (154, 7)\n",
            "\n",
            "Missing values in the training set:\n",
            "preg    0\n",
            "pres    0\n",
            "skin    0\n",
            "insu    0\n",
            "mass    0\n",
            "pedi    0\n",
            "age     0\n",
            "dtype: int64 0\n",
            "\n",
            "Missing values in the testing data:\n",
            "preg    0\n",
            "pres    0\n",
            "skin    0\n",
            "insu    0\n",
            "mass    0\n",
            "pedi    0\n",
            "age     0\n",
            "dtype: int64 0\n"
          ]
        },
        {
          "data": {
            "image/png": "[encoded data removed]",
            "text/plain": [
              "<Figure size 400x300 with 1 Axes>"
            ]
          },
          "metadata": {},
          "output_type": "display_data"
        }
      ],
      "source": [
        "# Splitting Data for Regression Task\n",
        "X_reg = df.drop(columns=['class', 'plas'])  # Features\n",
        "y_reg = df['plas'].astype(float)  # Target (plas column is now the target for regression)\n",
        "X_train_reg, X_test_reg, y_train_reg, y_test_reg = train_test_split(X_reg, y_reg, test_size=0.2, random_state=42)\n",
        "\n",
        "# Printing the shape of train and test sets\n",
        "print(\"\\nShape of training set (X_train_reg):\", X_train_reg.shape)\n",
        "print(\"Shape of testing set (X_test_reg):\", X_test_reg.shape)\n",
        "\n",
        "# Checking for missing values in the training data\n",
        "print(\"\\nMissing values in the training set:\")\n",
        "print(X_train_reg.isnull().sum(), y_train_reg.isnull().sum())\n",
        "\n",
        "# Checking for missing values in the testing data\n",
        "print(\"\\nMissing values in the testing data:\")\n",
        "print(X_test_reg.isnull().sum(), y_test_reg.isnull().sum())\n",
        "\n",
        "# Plotting normalized histograms of y_train_reg and y_test_reg\n",
        "plt.figure(figsize=(4, 3))\n",
        "plt.hist(y_train_reg, bins=20, alpha=0.5, label='Training Set (y_train_reg)', color='blue', density=True)\n",
        "plt.hist(y_test_reg, bins=20, alpha=0.5, label='Test Set (y_test_reg)', color='orange', density=True)\n",
        "\n",
        "# Adding labels and title\n",
        "plt.xlabel('Plasma Glucose Concentration (plas)')\n",
        "plt.ylabel('Density')\n",
        "plt.title('Normalized Histogram of Target Variable (plas) in Training and Test Sets')\n",
        "plt.legend(loc='upper right')\n",
        "\n",
        "# Show the plot\n",
        "plt.show()"
      ]
    },
    {
      "cell_type": "markdown",
      "metadata": {
        "id": "V6S1w4JWY3b0"
      },
      "source": [
        "## 3.2. Fit model (10 points)\n"
      ]
    },
    {
      "cell_type": "markdown",
      "metadata": {
        "id": "yV98KzBStoKt"
      },
      "source": [
        "\n",
        "### 3.2.1. Compute the regression coefficients ($\\beta$) and intercept ($\\beta_0$) using linear regression.  (5 points)\n",
        "*Edit the cell below to find $\\beta$ and $\\beta_0$. Print out the results.*"
      ]
    },
    {
      "cell_type": "code",
      "execution_count": 67,
      "metadata": {
        "colab": {
          "base_uri": "https://localhost:8080/"
        },
        "id": "vtE4urhdZK9c",
        "outputId": "7e4e6df8-ebef-4fb5-88f2-2dee0543a2d6"
      },
      "outputs": [
        {
          "name": "stdout",
          "output_type": "stream",
          "text": [
            "beta first: [-0.1, -0.8, 1.0, -1.0, -1.5, 0.5, -2.0]\n",
            "beta_0 first: 0.02\n",
            "\n",
            "beta: [ 0.1152807   0.09519348 -0.4401416   0.10645482  0.76516923  8.17146551\n",
            "  0.65044468]\n",
            "beta_0: 64.41390174439498\n"
          ]
        }
      ],
      "source": [
        "# Random coefficients and bias for the features (to be replaced)\n",
        "beta = [-0.1, -0.8, 1.0, -1.0, -1.5, 0.5, -2.0 ]\n",
        "beta_0 = 0.02\n",
        "# Output the random values\n",
        "print(f\"beta first: {beta}\")\n",
        "print(f\"beta_0 first: {beta_0}\")\n",
        "print()\n",
        "#Sklearn\n",
        "from sklearn.linear_model import LinearRegression\n",
        "model = LinearRegression(fit_intercept=True)\n",
        "model.fit(X_train_reg, y_train_reg)\n",
        "beta = model.coef_\n",
        "beta_0 = model.intercept_\n",
        "\n",
        "# Output the random values\n",
        "print(f\"beta: {beta}\")\n",
        "print(f\"beta_0: {beta_0}\")"
      ]
    },
    {
      "cell_type": "markdown",
      "metadata": {
        "id": "uufPMOsAtK0f"
      },
      "source": [
        "### 3.2.2. Evaluate the regression loss using MSE and MAE (5 points)\n",
        "*Edit the cell below to find MSE and MAE. Print out the results.*"
      ]
    },
    {
      "cell_type": "code",
      "execution_count": 68,
      "metadata": {
        "colab": {
          "base_uri": "https://localhost:8080/"
        },
        "id": "6Qbj6r4CtTFD",
        "outputId": "56d92e46-f766-47a0-e997-8b683ba40528"
      },
      "outputs": [
        {
          "name": "stdout",
          "output_type": "stream",
          "text": [
            "Linear Regression: \n",
            "Train MSE: 768.1603230157449, Train MAE: 20.936582691929342\n",
            "Test MSE: 869.4777053181734, Test MAE: 23.225630429657286\n"
          ]
        }
      ],
      "source": [
        "# Calculate MSE and MAE for both training and test sets using custom functions\n",
        "# Train set error\n",
        "train_mse = mean_squared_error(X_train_reg, y_train_reg, beta, beta_0)\n",
        "train_mae = mean_absolute_error(X_train_reg, y_train_reg, beta, beta_0)\n",
        "\n",
        "# Test set error\n",
        "test_mse = mean_squared_error(X_test_reg, y_test_reg, beta, beta_0)\n",
        "test_mae = mean_absolute_error(X_test_reg, y_test_reg, beta, beta_0)\n",
        "\n",
        "# Output the results\n",
        "print(f\"Linear Regression: \\nTrain MSE: {train_mse}, Train MAE: {train_mae}\")\n",
        "print(f\"Test MSE: {test_mse}, Test MAE: {test_mae}\")"
      ]
    },
    {
      "cell_type": "markdown",
      "metadata": {
        "id": "l8PVrNVTiRh1"
      },
      "source": [
        "## 3.3. Linear Regression - Bias Analysis (10 points)\n"
      ]
    },
    {
      "cell_type": "markdown",
      "metadata": {
        "id": "Kx6H1gACtw-Z"
      },
      "source": [
        "### 3.3.1. Visualize the effect of varying bias (5 points)\n",
        "- Keep the regression coefficients ($\\beta$) fixed and vary the bias term ($\\beta_0$).\n",
        "- Plot the relationship between varying $\\beta_0$ and the corresponding errors MSE and MAE.\n",
        "\n",
        "---\n",
        "*Below is a sample code for MSE.*\n"
      ]
    },
    {
      "cell_type": "code",
      "execution_count": 69,
      "metadata": {
        "colab": {
          "base_uri": "https://localhost:8080/",
          "height": 472
        },
        "id": "_ZOyrx3LifNW",
        "outputId": "08faea72-a125-4007-a358-62de2be5dd23"
      },
      "outputs": [
        {
          "data": {
            "image/png": "[encoded data removed]",
            "text/plain": [
              "<Figure size 1200x500 with 1 Axes>"
            ]
          },
          "metadata": {},
          "output_type": "display_data"
        },
        {
          "data": {
            "image/png": "[encoded data removed]",
            "text/plain": [
              "<Figure size 1200x500 with 1 Axes>"
            ]
          },
          "metadata": {},
          "output_type": "display_data"
        }
      ],
      "source": [
        "# Choose a suitable range of values for beta_0 around the pre-defined beta_0\n",
        "beta_0_values = np.linspace(beta_0 - 5, beta_0 + 5, 100)  # For example, varying beta_0 from -5 to +5 around beta_0 (a list of beta_0)\n",
        "\n",
        "# Store MSE for train and test sets\n",
        "train_mse_values = []\n",
        "test_mse_values = []\n",
        "\n",
        "# Loop through each value of beta_0\n",
        "for beta_0_test in beta_0_values:\n",
        "    # Calculate the MSE for each value of beta_0 (keep beta fixed)\n",
        "    train_mse_test = mean_squared_error(X_train_reg, y_train_reg, beta, beta_0_test)\n",
        "    test_mse_test = mean_squared_error(X_test_reg, y_test_reg, beta, beta_0_test)\n",
        "\n",
        "    train_mse_values.append(train_mse_test)\n",
        "    test_mse_values.append(test_mse_test)\n",
        "\n",
        "plt.figure(figsize=(12, 5))\n",
        "# Plot the MSE values for both Train and Test sets as a function of beta_0\n",
        "plt.subplot(1, 2, 1)\n",
        "plt.plot(beta_0_values, train_mse_values, label=\"Train MSE\", color='blue')\n",
        "plt.plot(beta_0_values, test_mse_values, label=\"Test MSE\", color='red')\n",
        "plt.xlabel('beta_0')\n",
        "plt.ylabel('MSE')\n",
        "plt.title('Relationship between MSE and beta_0 values')\n",
        "plt.grid(True)\n",
        "plt.legend()\n",
        "plt.show()\n",
        "\n",
        "# Store MSE for train and test sets\n",
        "train_mae_values = []\n",
        "test_mae_values = []\n",
        "\n",
        "# Loop through each value of beta_0\n",
        "for beta_0_test in beta_0_values:\n",
        "    # Calculate the MSE for each value of beta_0 (keep beta fixed)\n",
        "    train_mae_test = mean_absolute_error(X_train_reg, y_train_reg, beta, beta_0_test)\n",
        "    test_mae_test = mean_absolute_error(X_test_reg, y_test_reg, beta, beta_0_test)\n",
        "\n",
        "    train_mae_values.append(train_mae_test)\n",
        "    test_mae_values.append(test_mae_test)\n",
        "\n",
        "plt.figure(figsize=(12, 5))\n",
        "# Plot the MSE values for both Train and Test sets as a function of beta_0\n",
        "plt.subplot(1, 2, 1)\n",
        "plt.plot(beta_0_values, train_mae_values, label=\"Train MAE\", color='blue')\n",
        "plt.plot(beta_0_values, test_mae_values, label=\"Test MAE\", color='red')\n",
        "plt.xlabel('beta_0')\n",
        "plt.ylabel('MSE')\n",
        "plt.title('Relationship between MAE and beta_0 values')\n",
        "plt.grid(True)\n",
        "plt.legend()\n",
        "plt.show()"
      ]
    },
    {
      "cell_type": "markdown",
      "metadata": {
        "id": "z2JJbknit87N"
      },
      "source": [
        "### 3.3.2. Analyze the effect of varying bias (5 points)\n",
        "Analyze how changes in $\\beta_0$ affect the model's performance in term of the Mean Squared Error (MSE) and Mean Absolute Error (MAE). <br>\n",
        "Answer: Increase beta_0 result in lower MSE for both train and test MSE"
      ]
    },
    {
      "cell_type": "markdown",
      "metadata": {
        "id": "CLJgsuciej_0"
      },
      "source": [
        "## 3.4. Linear Regression: Features Analysis (20 points)\n",
        "\n",
        "This task aims to investigate the impact of feature selection on model performance by evaluating all possible subsets of 6 features out of 7 available features.\n",
        "\n",
        "### 3.4.1. Identify all possible subsets of 6 features (5 points)\n",
        "### 3.4.2. Compute the regression coefficients for each subset (5 points)\n",
        "### 3.4.3. Evaluate the regression loss for each subset (5 points)\n",
        "### 3.4.4. Analyze and compare the performance across subsets (5 points)\n",
        "---\n",
        "\n",
        "*Below is a sample code for one subset.*\n"
      ]
    },
    {
      "cell_type": "code",
      "execution_count": 70,
      "metadata": {
        "colab": {
          "base_uri": "https://localhost:8080/"
        },
        "id": "Q-XL62WxYMby",
        "outputId": "344b5b6a-551e-45b1-e0d3-c728d0891303"
      },
      "outputs": [
        {
          "name": "stdout",
          "output_type": "stream",
          "text": [
            "<class 'pandas.core.frame.DataFrame'>\n",
            "Index: 614 entries, 60 to 102\n",
            "Data columns (total 7 columns):\n",
            " #   Column  Non-Null Count  Dtype  \n",
            "---  ------  --------------  -----  \n",
            " 0   preg    614 non-null    int64  \n",
            " 1   pres    614 non-null    int64  \n",
            " 2   skin    614 non-null    int64  \n",
            " 3   insu    614 non-null    int64  \n",
            " 4   mass    614 non-null    float64\n",
            " 5   pedi    614 non-null    float64\n",
            " 6   age     614 non-null    int64  \n",
            "dtypes: float64(2), int64(5)\n",
            "memory usage: 38.4 KB\n",
            "None\n",
            "| Subset                            |   Train MSE |   Train MAE |   Test MSE |   Test MAE |\n",
            "|:----------------------------------|------------:|------------:|-----------:|-----------:|\n",
            "| preg, pres, skin, insu, mass, age |     775.374 |     20.8987 |    859.248 |    23.0546 |\n"
          ]
        }
      ],
      "source": [
        "# Define a specific subset of 6 features\n",
        "selected_features = ['preg', 'pres', 'skin', 'insu', 'mass', 'age']  # Example subset\n",
        "print(X_train_reg.info())\n",
        "# Prepare training and test data using the selected features\n",
        "X_train_subset = X_train_reg[selected_features]\n",
        "X_test_subset = X_test_reg[selected_features]\n",
        "\n",
        "# Random coefficients for the features (to be replaced)\n",
        "beta = [-0.2, -0.4, 1.0, -1.0, -1.5, 0.7]\n",
        "beta_0 = 0.02\n",
        "model.fit(X_train_subset, y_train_reg)\n",
        "beta = model.coef_\n",
        "beta_0 = model.intercept_\n",
        "\n",
        "# Train set error\n",
        "train_mse = mean_squared_error(X_train_subset, y_train_reg, beta, beta_0)\n",
        "train_mae = mean_absolute_error(X_train_subset, y_train_reg, beta, beta_0)\n",
        "\n",
        "# Test set error\n",
        "test_mse = mean_squared_error(X_test_subset, y_test_reg, beta, beta_0)\n",
        "test_mae = mean_absolute_error(X_test_subset, y_test_reg, beta, beta_0)\n",
        "\n",
        "# Create a result table\n",
        "result_table = pd.DataFrame({\n",
        "    'Subset': [', '.join(selected_features)],\n",
        "    'Train MSE': [train_mse],\n",
        "    'Train MAE': [train_mae],\n",
        "    'Test MSE': [test_mse],\n",
        "    'Test MAE': [test_mae]\n",
        "})\n",
        "\n",
        "# Display results\n",
        "print(result_table.to_markdown(index=False))"
      ]
    },
    {
      "cell_type": "code",
      "execution_count": 71,
      "metadata": {},
      "outputs": [
        {
          "name": "stdout",
          "output_type": "stream",
          "text": [
            "['preg', 'pres', 'skin', 'insu', 'mass', 'pedi']\n",
            "7\n"
          ]
        }
      ],
      "source": [
        "features = ['preg', 'pres', 'skin', 'insu', 'mass', 'pedi', 'age']\n",
        "pivot = 'age'\n",
        "\n",
        "remains = [x for x in features if x != pivot]\n",
        "print(remains)\n",
        "\n",
        "subsets = [remains]\n",
        "for remove_features in remains:\n",
        "    subset = [i for i in remains if i != remove_features] + [pivot]\n",
        "    subsets.append(subset)\n",
        "\n",
        "print(len(subsets))"
      ]
    },
    {
      "cell_type": "code",
      "execution_count": 72,
      "metadata": {},
      "outputs": [
        {
          "name": "stdout",
          "output_type": "stream",
          "text": [
            "Coefficients for subset: 1 are: [ 1.28000107  0.16959722 -0.52329754  0.10923852  0.76151075  9.1743701 ]\n",
            "bias for subset: 1 are: 77.41035008260421\n",
            "\n",
            "Coefficients for subset: 2 are: [ 0.09562378 -0.43942205  0.10626885  0.76632218  8.13735485  0.66872087]\n",
            "bias for subset: 2 are: 64.19366752799789\n",
            "\n",
            "Coefficients for subset: 3 are: [ 0.1291719  -0.42369057  0.10643773  0.80936556  8.11806671  0.68813498]\n",
            "bias for subset: 3 are: 68.00682722204198\n",
            "\n",
            "Coefficients for subset: 4 are: [0.05662355 0.05365188 0.08573251 0.52138462 6.54400429 0.75681448]\n",
            "bias for subset: 4 are: 65.28646858250266\n",
            "\n",
            "Coefficients for subset: 5 are: [-0.12927904  0.09449743 -0.10584653  0.80703139 11.12452984  0.70788796]\n",
            "bias for subset: 5 are: 62.61304018681862\n",
            "\n",
            "Coefficients for subset: 6 are: [ 0.16446692  0.15359817 -0.31256306  0.10781282  9.26321911  0.64799563]\n",
            "bias for subset: 6 are: 81.50364344759899\n",
            "\n",
            "Coefficients for subset: 7 are: [ 0.08070924  0.09351704 -0.41990781  0.10873069  0.79110624  0.66639433]\n",
            "bias for subset: 7 are: 66.54094668932608\n",
            "\n",
            "\n",
            "| Subset                             |   Train MSE |   Train MAE |   Test MSE |   Test MAE |\n",
            "|:-----------------------------------|------------:|------------:|-----------:|-----------:|\n",
            "| preg, pres, skin, insu, mass, pedi |     804.266 |     21.6792 |    918.43  |    23.8183 |\n",
            "| pres, skin, insu, mass, pedi, age  |     768.261 |     20.9381 |    869.016 |    23.2553 |\n",
            "| preg, skin, insu, mass, pedi, age  |     770.837 |     20.9583 |    866.209 |    23.233  |\n",
            "| preg, pres, insu, mass, pedi, age  |     799.413 |     21.3018 |    832.648 |    23.1224 |\n",
            "| preg, pres, skin, mass, pedi, age  |     890.1   |     22.5266 |    909.797 |    24.8691 |\n",
            "| preg, pres, skin, insu, pedi, age  |     796.593 |     21.1656 |    894.099 |    23.9767 |\n",
            "| preg, pres, skin, insu, mass, age  |     775.374 |     20.8987 |    859.248 |    23.0546 |\n"
          ]
        }
      ],
      "source": [
        "records = []\n",
        "\n",
        "table = {\n",
        "    'Subset': [],\n",
        "    'Train MSE': [],\n",
        "    'Train MAE': [],\n",
        "    'Test MSE': [],\n",
        "    'Test MAE': []\n",
        "}\n",
        "\n",
        "for feats in subsets:\n",
        "    X_train_subset = X_train_reg[feats]\n",
        "    X_test_subset = X_test_reg[feats]\n",
        "    model.fit(X_train_subset, y_train_reg)\n",
        "    beta, beta_0 = model.coef_, model.intercept_\n",
        "\n",
        "    #Train set error\n",
        "    train_mse = mean_squared_error(X_train_subset, y_train_reg, beta, beta_0)\n",
        "    train_mae = mean_absolute_error(X_train_subset, y_train_reg, beta, beta_0)\n",
        "\n",
        "    # Test set error\n",
        "    test_mse = mean_squared_error(X_test_subset, y_test_reg, beta, beta_0)\n",
        "    test_mae = mean_absolute_error(X_test_subset, y_test_reg, beta, beta_0)\n",
        "    records.append({\n",
        "        'Subset': ', '.join(feats),\n",
        "        'Train MSE': [train_mse],\n",
        "        'Train MAE': [train_mae],\n",
        "        'Test MSE': [test_mse],\n",
        "        'Test MAE': [test_mae]\n",
        "    })\n",
        "    table['Subset'].append(', '.join(feats))\n",
        "    table['Train MSE'].append(train_mse)\n",
        "    table['Train MAE'].append(train_mae)\n",
        "    table['Test MSE'].append(test_mse)\n",
        "    table['Test MAE'].append(test_mae)\n",
        "\n",
        "for i in range(len(subsets)):\n",
        "    X_train_subset = X_train_reg[subsets[i]]\n",
        "    X_test_subset = X_test_reg[subsets[i]]\n",
        "    model.fit(X_train_subset, y_train_reg)\n",
        "    beta, beta_0 = model.coef_, model.intercept_\n",
        "\n",
        "    print(f'Coefficients for subset: {i+1} are: {beta}')\n",
        "    print(f'bias for subset: {i+1} are: {beta_0}')\n",
        "    print()\n",
        "\n",
        "# result_df = pd.DataFrame(records)\n",
        "# print(result_df.sort_values('Train MSE'))\n",
        "print()\n",
        "result_table = pd.DataFrame(table)\n",
        "print(result_table.to_markdown(index=False))"
      ]
    },
    {
      "cell_type": "markdown",
      "metadata": {
        "id": "Sxbmd9ZWht_Q"
      },
      "source": [
        "# 4. Classification Models (40 points)\n",
        "\n",
        "Classification models aim to predict categorical outcomes by modeling the relationship between a set of features and a target variable. Two common approaches are **Logistic Regression** and **Support Vector Machines (SVMs)**.\n",
        "\n",
        "\n",
        "Both models aim to find the best $\\beta$ and $\\beta_0$ to **minimize the loss function**, leading to accurate classification. The formula for accuracy is:\n",
        "\n",
        "$$\n",
        "\\text{Accuracy} = \\frac{\\text{Number of Correct Predictions}}{\\text{Total Number of Predictions}} \\times 100\\%\n",
        "$$\n",
        "\n"
      ]
    },
    {
      "cell_type": "code",
      "execution_count": 73,
      "metadata": {
        "id": "YyGZm-ynhr94"
      },
      "outputs": [],
      "source": [
        "# Accuracy function\n",
        "def accuracy(y_true, y_pred):\n",
        "    return np.mean(y_true == y_pred)"
      ]
    },
    {
      "cell_type": "markdown",
      "metadata": {
        "id": "aw6S1BuEkNtj"
      },
      "source": [
        "## 4.1. Data Splitting"
      ]
    },
    {
      "cell_type": "code",
      "execution_count": 74,
      "metadata": {
        "colab": {
          "base_uri": "https://localhost:8080/"
        },
        "id": "XFpJcUn8kQVB",
        "outputId": "2dc3a15b-334f-47f1-b79a-3256912e7f52"
      },
      "outputs": [
        {
          "name": "stdout",
          "output_type": "stream",
          "text": [
            "\n",
            "Shape of training set (X_train_cls): (614, 8)\n",
            "Shape of testing set (X_test_cls): (154, 8)\n",
            "\n",
            "Missing values in the training set:\n",
            "preg    0\n",
            "plas    0\n",
            "pres    0\n",
            "skin    0\n",
            "insu    0\n",
            "mass    0\n",
            "pedi    0\n",
            "age     0\n",
            "dtype: int64 0\n",
            "\n",
            "Missing values in the testing set:\n",
            "preg    0\n",
            "plas    0\n",
            "pres    0\n",
            "skin    0\n",
            "insu    0\n",
            "mass    0\n",
            "pedi    0\n",
            "age     0\n",
            "dtype: int64 0\n",
            "Training set class distribution:\n",
            "  Positive (1): 213\n",
            "  Negative (-1): 401\n",
            "\n",
            "Test set class distribution:\n",
            "  Positive (1): 55\n",
            "  Negative (-1): 99\n"
          ]
        }
      ],
      "source": [
        "# Splitting Data for Classification Task\n",
        "X_cls = df.drop(columns=['class'])  # Features\n",
        "y_cls = df['class'].astype(int)  # Target (class column as the target for classification)\n",
        "X_train_cls, X_test_cls, y_train_cls, y_test_cls = train_test_split(X_cls, y_cls, test_size=0.2, random_state=42)\n",
        "\n",
        "# Printing the shape of train and test sets\n",
        "print(\"\\nShape of training set (X_train_cls):\", X_train_cls.shape)\n",
        "print(\"Shape of testing set (X_test_cls):\", X_test_cls.shape)\n",
        "\n",
        "# Checking for missing values in the training data\n",
        "print(\"\\nMissing values in the training set:\")\n",
        "print(X_train_cls.isnull().sum(), y_train_cls.isnull().sum())\n",
        "\n",
        "# Checking for missing values in the testing data\n",
        "print(\"\\nMissing values in the testing set:\")\n",
        "print(X_test_cls.isnull().sum(), y_test_cls.isnull().sum())\n",
        "\n",
        "# Count the number of positive and negative samples in training and test sets\n",
        "train_counts = y_train_cls.value_counts()\n",
        "test_counts = y_test_cls.value_counts()\n",
        "\n",
        "# Print the counts\n",
        "print(\"Training set class distribution:\")\n",
        "print(f\"  Positive (1): {train_counts.get(1, 0)}\")\n",
        "print(f\"  Negative (-1): {train_counts.get(-1, 0)}\")\n",
        "\n",
        "print(\"\\nTest set class distribution:\")\n",
        "print(f\"  Positive (1): {test_counts.get(1, 0)}\")\n",
        "print(f\"  Negative (-1): {test_counts.get(-1, 0)}\")"
      ]
    },
    {
      "cell_type": "markdown",
      "metadata": {
        "id": "s-V0mE5xZj45"
      },
      "source": [
        "## 4.2 Logistic Regression (20 points)\n",
        "\n",
        "Logistic regression models the probability that a given input belongs to a particular class. The predicted probability is given by the **sigmoid function**:\n",
        "\n",
        "$$\n",
        "{y} = \\sigma(X \\cdot \\beta + \\beta_0) = \\frac{1}{1 + e^{-(X \\cdot \\beta + \\beta_0)}},\n",
        "$$\n",
        "\n",
        "where\n",
        "- ${y}$ is the predicted probability of the positive class.\n",
        "- $X$ is the feature matrix.\n",
        "- $\\beta$ is the coefficient vector.\n",
        "- $\\beta_0$ is the bias term.\n",
        "- $\\sigma(\\cdot)$ is the sigmoid activation function.\n",
        "\n",
        "Logistic Loss (Binary Cross-Entropy)\n",
        "To train the model, we minimize the **logistic loss function** (also called binary cross-entropy):\n",
        "\n",
        "$$\n",
        "L = -\\frac{1}{n} \\sum_{i=1}^{n} \\left[ \\hat{y}_i \\log {y}_i + (1 - \\hat{y}_i) \\log (1 - {y}_i) \\right],\n",
        "$$\n",
        "\n",
        "where:\n",
        "- $n$ is the number of samples.\n",
        "- $\\hat{y}_i$ is the actual class label **(0 or 1)**.\n",
        "- ${y}_i$ is the predicted probability of the positive class.\n",
        "\n",
        "\n"
      ]
    },
    {
      "cell_type": "code",
      "execution_count": null,
      "metadata": {
        "id": "EJ3Rf8c6ZpBS"
      },
      "outputs": [],
      "source": [
        "# Sigmoid function for logistic regression\n",
        "def sigmoid(z):\n",
        "    return 1 / (1 + np.exp(-z))\n",
        "\n",
        "# Prediction function for logistic regression (returns labels)\n",
        "def predict_logistic(X, beta, beta_0):\n",
        "    probs = sigmoid(beta_0 + np.dot(X, beta))\n",
        "    return (probs >= 0.5).astype(int)\n",
        "\n",
        "# Logistic Loss (Binary Cross-Entropy) using X, y, beta, and beta_0\n",
        "def logistic_loss(X, y, beta, beta_0):\n",
        "    y_pred = sigmoid(beta_0 + np.dot(X, beta))\n",
        "    return -np.mean(y * np.log(y_pred) + (1 - y) * np.log(1 - y_pred))"
      ]
    },
    {
      "cell_type": "markdown",
      "metadata": {
        "id": "lTIHtxM_a-GH"
      },
      "source": [
        "### 4.2.1. Convert labels for logistic regression (5 points)\n",
        "To use Logistic Regression, the labels must be **$0$** or **$1$**. Currently, the labels are **$-1$** or **$1$**.\n",
        "\n",
        "Write a code to convert `y_train_cls` and `y_test_cls` such that $y_i = -1 \\rightarrow y_i = 0$"
      ]
    },
    {
      "cell_type": "code",
      "execution_count": 76,
      "metadata": {
        "id": "9MT6DNY7c9M-"
      },
      "outputs": [
        {
          "data": {
            "text/plain": [
              "668    0\n",
              "324    0\n",
              "624    0\n",
              "690    0\n",
              "473    0\n",
              "      ..\n",
              "355    1\n",
              "534    0\n",
              "344    0\n",
              "296    1\n",
              "462    0\n",
              "Name: class, Length: 154, dtype: int64"
            ]
          },
          "execution_count": 76,
          "metadata": {},
          "output_type": "execute_result"
        }
      ],
      "source": [
        "# Place your code here\n",
        "y_train_cls = y_train_cls.replace(-1, 0)\n",
        "y_test_cls = y_test_cls.replace(-1, 0)\n",
        "y_test_cls"
      ]
    },
    {
      "cell_type": "markdown",
      "metadata": {
        "id": "T5BoeGOLdDo7"
      },
      "source": [
        "### 4.2.2. Fit the logistic regression model (5 points)\n",
        "Compute the optimal values of $\\beta$ and $\\beta_0$ using a solver.\n",
        "\n",
        "*Below is a sample code.*"
      ]
    },
    {
      "cell_type": "code",
      "execution_count": null,
      "metadata": {
        "colab": {
          "base_uri": "https://localhost:8080/"
        },
        "id": "HSC9PcsTdrwF",
        "outputId": "62479153-2d1f-4e36-c0d7-e5f39aeb0a66"
      },
      "outputs": [
        {
          "name": "stdout",
          "output_type": "stream",
          "text": [
            "beta: [ 0.06437629  0.03409545 -0.01387909  0.00329152 -0.0018035   0.10260733\n",
            "  0.62674136  0.03709558]\n",
            "beta_0: -9.00687991995817\n"
          ]
        }
      ],
      "source": [
        "# beta and beta_0\n",
        "beta = [0.05, 0.03, -0.01,  0.0, -0.001,  0.1, 0.6,  0.04]\n",
        "beta_0 = -9\n",
        "from sklearn.linear_model import LogisticRegression\n",
        "model = LogisticRegression(solver='lbfgs', max_iter=1000)\n",
        "model.fit(X_train_cls, y_train_cls)\n",
        "beta = model.coef_[0]\n",
        "beta_0 = model.intercept_[0]\n",
        "\n",
        "print(\"beta:\", beta)\n",
        "print(\"beta_0:\", beta_0)"
      ]
    },
    {
      "cell_type": "markdown",
      "metadata": {
        "id": "PJBz_LNUd25o"
      },
      "source": [
        "### 4.2.3. Evaluate the logistic regression model (5 points)\n",
        "Evaluate: training loss, testing loss, training accuracy, testing accuracy\n",
        "\n",
        "*Below is a sample code.*"
      ]
    },
    {
      "cell_type": "code",
      "execution_count": 78,
      "metadata": {
        "colab": {
          "base_uri": "https://localhost:8080/"
        },
        "id": "QzSPuEbHeE2o",
        "outputId": "04c8b640-ad9d-4a76-9a4b-38d75d2ddbfc"
      },
      "outputs": [
        {
          "name": "stdout",
          "output_type": "stream",
          "text": [
            "Training loss: 0.4679, accuracy: 0.7704\n",
            "Testing loss: 1.0000, accuracy: 1.0000\n"
          ]
        }
      ],
      "source": [
        "# Evaluate logistic loss and accuracy\n",
        "train_loss = logistic_loss(X_train_cls, y_train_cls, beta, beta_0)\n",
        "test_loss = 1.0\n",
        "\n",
        "train_acc = accuracy(y_train_cls, predict_logistic(X_train_cls, beta, beta_0))\n",
        "test_acc = 1.0\n",
        "\n",
        "# Print\n",
        "print(f\"Training loss: {train_loss:.4f}, accuracy: {train_acc:.4f}\")\n",
        "print(f\"Testing loss: {test_loss:.4f}, accuracy: {test_acc:.4f}\")"
      ]
    },
    {
      "cell_type": "code",
      "execution_count": null,
      "metadata": {},
      "outputs": [
        {
          "name": "stdout",
          "output_type": "stream",
          "text": [
            "Training loss: 0.4679, accuracy: 0.7704\n",
            "Testing loss: 0.5117, accuracy: 0.7468\n"
          ]
        }
      ],
      "source": [
        "import numpy as np\n",
        "\n",
        "# Compute training loss\n",
        "train_loss = logistic_loss(X_train_cls, y_train_cls, beta, beta_0)\n",
        "\n",
        "# Compute testing loss\n",
        "test_loss = logistic_loss(X_test_cls, y_test_cls, beta, beta_0)\n",
        "\n",
        "# Compute training accuracy\n",
        "train_pred = predict_logistic(X_train_cls, beta, beta_0)\n",
        "train_acc = accuracy(y_train_cls, train_pred)\n",
        "# Compute testing accuracy\n",
        "test_pred = predict_logistic(X_test_cls, beta, beta_0)\n",
        "test_acc = accuracy(y_test_cls, test_pred)\n",
        "\n",
        "# Print results\n",
        "print(f\"Training loss: {train_loss:.4f}, accuracy: {train_acc:.4f}\")\n",
        "print(f\"Testing loss: {test_loss:.4f}, accuracy: {test_acc:.4f}\")"
      ]
    },
    {
      "cell_type": "markdown",
      "metadata": {
        "id": "r4SLHxwLfFTT"
      },
      "source": [
        "### 4.2.4. Report and comment about the results (5 points)"
      ]
    },
    {
      "cell_type": "markdown",
      "metadata": {
        "id": "PI9n7eYxZsjE"
      },
      "source": [
        "## 4.3. Support Vector Machines (10 points)\n",
        "\n",
        "SVM is another classification model that finds an optimal hyperplane to separate classes with the **maximum margin**.\n",
        "\n",
        "For a **linear SVM**, the decision boundary is given by:\n",
        "\n",
        "$$\n",
        "f(X) = X \\cdot \\beta + \\beta_0\n",
        "$$\n",
        "\n",
        "A sample $X_i$ is classified as:\n",
        "$$\n",
        "{y}_i = \\text{sign}(X_i \\cdot \\beta + \\beta_0)\n",
        "$$\n",
        "\n",
        "Hinge Loss (SVM Objective)\n",
        "SVM minimizes the **hinge loss**:\n",
        "\n",
        "$$\n",
        "L = \\frac{1}{n} \\sum_{i=1}^{n} \\max(0, 1 - \\hat{y}_i (X_i \\cdot \\beta + \\beta_0)),\n",
        "$$\n",
        "\n",
        "where\n",
        "- ${y}$ is the label **($-1$ or $1$)**.\n",
        "- $X$ is the feature matrix.\n",
        "- $\\beta$ is the coefficient vector.\n",
        "- $\\beta_0$ is the bias term."
      ]
    },
    {
      "cell_type": "code",
      "execution_count": 80,
      "metadata": {
        "id": "XFcz0-s4Zrz7"
      },
      "outputs": [],
      "source": [
        "# Prediction function for SVM (sign function)\n",
        "def predict_svm(X, beta, beta_0):\n",
        "    return np.sign(beta_0 + np.dot(X, beta))\n",
        "\n",
        "# Hinge Loss for SVM using X, y, beta, and beta_0\n",
        "def hinge_loss(X, y, beta, beta_0):\n",
        "    margin = y * (beta_0 + np.dot(X, beta))\n",
        "    return np.mean(np.maximum(0, 1 - margin))"
      ]
    },
    {
      "cell_type": "markdown",
      "metadata": {
        "id": "TgpjTE29iDK3"
      },
      "source": [
        "### 4.3.1. Fit the SVM model (5 points)\n",
        "Compute the optimal values of $\\beta$ and $\\beta_0$ using a solver.\n",
        "(Note that to use SVM, the labels must be **$-1$** or **$1$**.)"
      ]
    },
    {
      "cell_type": "code",
      "execution_count": 81,
      "metadata": {
        "colab": {
          "base_uri": "https://localhost:8080/"
        },
        "id": "-eycQDpqiQ3X",
        "outputId": "68f0c5d6-3bdc-40d9-bc93-62f257a30c1a"
      },
      "outputs": [
        {
          "name": "stdout",
          "output_type": "stream",
          "text": [
            "Unique values in y_train_cls: [0 1]\n",
            "Unique values in y_test_cls: [0 1]\n",
            "beta: [ 0.06011635  0.0279392  -0.01250348 -0.00099248 -0.00128999  0.07287321\n",
            "  0.41715989  0.02411532]\n",
            "beta_0: -6.599139739957513\n"
          ]
        }
      ],
      "source": [
        "# Place your code here\n",
        "# Convert class labels from -1 and 1 to 0 and 1\n",
        "y_train_cls_svm = (y_train_cls*2-1).astype(int)\n",
        "y_test_cls_svm = (y_test_cls*2-1).astype(int)\n",
        "\n",
        "# Verify conversion\n",
        "print(\"Unique values in y_train_cls:\", np.unique(y_train_cls))\n",
        "print(\"Unique values in y_test_cls:\", np.unique(y_test_cls))\n",
        "\n",
        "# beta (coefficients) and beta_0 (intercept) (to be replaced by yours)\n",
        "beta_svm = [ 0.06,  0.03,  -0.01, 0.0, -0.001,  0.07, 0.4,  0.025]\n",
        "beta_0_svm = -6.0\n",
        "from sklearn.svm import SVC\n",
        "model = SVC(kernel='linear', C=1.0)\n",
        "model.fit(X_train_cls, y_train_cls_svm)\n",
        "beta_svm = model.coef_[0]\n",
        "beta_0_svm = model.intercept_[0]\n",
        "\n",
        "\n",
        "# Print the results\n",
        "print(\"beta:\", beta_svm)\n",
        "print(\"beta_0:\", beta_0_svm)"
      ]
    },
    {
      "cell_type": "markdown",
      "metadata": {
        "id": "-igiDh9TihSL"
      },
      "source": [
        "### 4.3.2. Evaluate the SVM model (5 points)\n",
        "Evaluate: training loss, testing loss, training accuracy, testing accuracy"
      ]
    },
    {
      "cell_type": "code",
      "execution_count": 82,
      "metadata": {
        "colab": {
          "base_uri": "https://localhost:8080/"
        },
        "id": "Oa1Y2Oh3inv-",
        "outputId": "8a9f5390-7775-4e33-be6f-71b85500db3d"
      },
      "outputs": [
        {
          "name": "stdout",
          "output_type": "stream",
          "text": [
            "Training loss: 0.5134, accuracy: 0.7736\n",
            "Testing loss: 0.5532, accuracy: 0.7532\n"
          ]
        }
      ],
      "source": [
        "# Evaluate SVM and accuracy\n",
        "train_loss = hinge_loss(X_train_cls, y_train_cls_svm, beta_svm, beta_0_svm)\n",
        "test_loss = hinge_loss(X_test_cls, y_test_cls_svm, beta_svm, beta_0_svm)\n",
        "\n",
        "train_acc = accuracy(y_train_cls_svm, predict_svm(X_train_cls, beta_svm, beta_0_svm))\n",
        "test_acc = accuracy(y_test_cls_svm, predict_svm(X_test_cls, beta_svm, beta_0_svm))\n",
        "\n",
        "# 4. Report\n",
        "print(f\"Training loss: {train_loss:.4f}, accuracy: {train_acc:.4f}\")\n",
        "print(f\"Testing loss: {test_loss:.4f}, accuracy: {test_acc:.4f}\")"
      ]
    },
    {
      "cell_type": "markdown",
      "metadata": {
        "id": "D3UKMQ-xjQzC"
      },
      "source": [
        "## 4.4. Sensitivity to bias $\\beta_0$ in logistic regression and SVM (10 points)"
      ]
    },
    {
      "cell_type": "markdown",
      "metadata": {
        "id": "Vwv9EXJFky-B"
      },
      "source": [
        "### 4.4.1. Evaluate the sensitivity of models (5 points)\n",
        "- Vary $\\beta_0$ while keeping $\\beta$ fixed.\n",
        "- Record accuracy for each $\\beta_0$ and plot."
      ]
    },
    {
      "cell_type": "code",
      "execution_count": 83,
      "metadata": {
        "id": "hJKHc0GfAdig"
      },
      "outputs": [
        {
          "data": {
            "image/png": "[encoded data removed]",
            "text/plain": [
              "<Figure size 1200x500 with 2 Axes>"
            ]
          },
          "metadata": {},
          "output_type": "display_data"
        }
      ],
      "source": [
        "\n",
        "# Define beta_0 range\n",
        "beta0_values = np.arange(-10, 10.5, 0.5)\n",
        "\n",
        "# Logistic Regression\n",
        "train_acc_log = []\n",
        "test_acc_log = []\n",
        "for beta0 in beta0_values:\n",
        "    train_pred = predict_logistic(X_train_cls, beta, beta0)\n",
        "    test_pred = predict_logistic(X_test_cls, beta, beta0)\n",
        "    train_acc_log.append(accuracy(y_train_cls, train_pred))\n",
        "    test_acc_log.append(accuracy(y_test_cls, test_pred))\n",
        "\n",
        "# SVM\n",
        "train_acc_svm = []\n",
        "test_acc_svm = []\n",
        "for beta0 in beta0_values:\n",
        "    train_pred = predict_svm(X_train_cls, beta_svm, beta_0_svm)\n",
        "    test_pred = predict_svm(X_test_cls, beta_svm, beta_0_svm)\n",
        "    train_acc_svm.append(accuracy(y_train_cls_svm, train_pred))\n",
        "    test_acc_svm.append(accuracy(y_test_cls_svm, test_pred))\n",
        "\n",
        "# Plotting\n",
        "plt.figure(figsize=(12, 5))\n",
        "plt.subplot(1, 2, 1)\n",
        "plt.plot(beta0_values, train_acc_log, label='Logistic Regression')\n",
        "plt.plot(beta0_values, train_acc_svm, label='SVM')\n",
        "plt.xlabel(\"Beta_0\")\n",
        "plt.ylabel('Training Accuracy')\n",
        "plt.title('Training Accuracy vs. beta0')\n",
        "plt.legend()\n",
        "plt.grid(True)\n",
        "\n",
        "plt.subplot(1, 2, 2)\n",
        "plt.plot(beta0_values, test_acc_log, label='Logistic Regression')\n",
        "plt.plot(beta0_values, test_acc_svm, label='SVM')\n",
        "plt.xlabel(\"Beta_0\")\n",
        "plt.ylabel('Testing Accuracy')\n",
        "plt.title('Testing Accuracy vs. beta0')\n",
        "plt.legend()\n",
        "plt.grid(True)\n",
        "\n",
        "plt.tight_layout()\n",
        "plt.show()"
      ]
    },
    {
      "cell_type": "markdown",
      "metadata": {
        "id": "SOCXKEA1l1jd"
      },
      "source": [
        "### 4.4.2. Perform the sensitivity analysis (5 points)\n",
        "- Analyze how changes in $\\beta_0$ affect model performance.  \n",
        "- Discuss which model is more sensitive to $\\beta_0$ and why."
      ]
    },
    {
      "cell_type": "code",
      "execution_count": 84,
      "metadata": {
        "id": "YFr_PjFnAgIp"
      },
      "outputs": [],
      "source": [
        "# Place your code here"
      ]
    }
  ],
  "metadata": {
    "colab": {
      "provenance": [],
      "toc_visible": true
    },
    "kernelspec": {
      "display_name": "dias",
      "language": "python",
      "name": "python3"
    },
    "language_info": {
      "codemirror_mode": {
        "name": "ipython",
        "version": 3
      },
      "file_extension": ".py",
      "mimetype": "text/x-python",
      "name": "python",
      "nbconvert_exporter": "python",
      "pygments_lexer": "ipython3",
      "version": "3.10.10"
    }
  },
  "nbformat": 4,
  "nbformat_minor": 0
}
