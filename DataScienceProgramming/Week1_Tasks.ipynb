{
  "cells": [
    {
      "cell_type": "markdown",
      "metadata": {},
      "source": [
        "# Week 1 Tasks - Data Science Programming\n",
        "\n",
        "**Student Name:** [Your Name Here]\n",
        "**Date:** [Date]\n",
        "\n",
        "This notebook contains solutions to all Week 1 tasks using the `student_scores.csv` dataset.\n"
      ]
    },
    {
      "cell_type": "markdown",
      "metadata": {},
      "source": [
        "## Task 1 – Hello World\n",
        "\n",
        "Write a program that prints: \"Welcome to Data Science Programming!\"\n"
      ]
    },
    {
      "cell_type": "code",
      "execution_count": 1,
      "metadata": {},
      "outputs": [
        {
          "name": "stdout",
          "output_type": "stream",
          "text": [
            "Hello  World\n"
          ]
        }
      ],
      "source": [
        "# Task 1: Hello World\n",
        "# Write your code here\n",
        "print('Hello  World')"
      ]
    },
    {
      "cell_type": "markdown",
      "metadata": {},
      "source": [
        "## Task 2 – Simple Math\n",
        "\n",
        "Calculate and print the result of:\n",
        "- 15 + 23\n",
        "- 120 / 6  \n",
        "- 5³ (5 to the power of 3)\n"
      ]
    },
    {
      "cell_type": "code",
      "execution_count": 2,
      "metadata": {},
      "outputs": [
        {
          "name": "stdout",
          "output_type": "stream",
          "text": [
            "The result of 15 + 23 is 38\n",
            "The result of 120 / 6 is 20.0\n",
            "The result of 5^3 is 125\n"
          ]
        }
      ],
      "source": [
        "# Task 2: Simple Math\n",
        "# Write your code here\n",
        "print(f'The result of 15 + 23 is {15+23}')\n",
        "print(f'The result of 120 / 6 is {120/6}')\n",
        "print(f'The result of 5^3 is {5**3}')"
      ]
    },
    {
      "cell_type": "markdown",
      "metadata": {},
      "source": [
        "## Task 3 – Variables and Lists\n",
        "\n",
        "Create a list of 5 numbers: `[10, 20, 30, 40, 50]`.\n",
        "\n",
        "Print the list and the sum of its elements.\n"
      ]
    },
    {
      "cell_type": "code",
      "execution_count": 3,
      "metadata": {},
      "outputs": [
        {
          "name": "stdout",
          "output_type": "stream",
          "text": [
            "The sum of the list is: 150\n"
          ]
        }
      ],
      "source": [
        "# Task 3: Variables and Lists\n",
        "# Write your code here\n",
        "lst = [10, 20, 30, 40, 50]\n",
        "sum = 0\n",
        "for i in lst:\n",
        "    sum += i\n",
        "print(f'The sum of the list is: {sum}')"
      ]
    },
    {
      "cell_type": "markdown",
      "metadata": {},
      "source": [
        "## Task 4 – Plot Squares\n",
        "\n",
        "Create a list of numbers from 1 to 10.\n",
        "\n",
        "Plot the numbers against their squares using matplotlib.\n"
      ]
    },
    {
      "cell_type": "code",
      "execution_count": 4,
      "metadata": {},
      "outputs": [
        {
          "data": {
            "image/png": "[encoded data removed]",
            "text/plain": [
              "<Figure size 640x480 with 1 Axes>"
            ]
          },
          "metadata": {},
          "output_type": "display_data"
        }
      ],
      "source": [
        "# Task 4: Plot Squares\n",
        "# Import required libraries\n",
        "import matplotlib.pyplot as plt\n",
        "\n",
        "# Write your code here\n",
        "newLst = [i for i in range(1,11)]\n",
        "\n",
        "plt.plot(newLst, [n**2 for n in newLst])\n",
        "plt.title(\"Squares of Numbers\")\n",
        "plt.show()"
      ]
    },
    {
      "cell_type": "markdown",
      "metadata": {},
      "source": [
        "## Task 5 – Load Dataset\n",
        "\n",
        "Load `student_scores.csv` into your program.\n",
        "\n",
        "Display the first 5 rows.\n"
      ]
    },
    {
      "cell_type": "code",
      "execution_count": 6,
      "metadata": {},
      "outputs": [
        {
          "data": {
            "text/html": [
              "<div>\n",
              "<style scoped>\n",
              "    .dataframe tbody tr th:only-of-type {\n",
              "        vertical-align: middle;\n",
              "    }\n",
              "\n",
              "    .dataframe tbody tr th {\n",
              "        vertical-align: top;\n",
              "    }\n",
              "\n",
              "    .dataframe thead th {\n",
              "        text-align: right;\n",
              "    }\n",
              "</style>\n",
              "<table border=\"1\" class=\"dataframe\">\n",
              "  <thead>\n",
              "    <tr style=\"text-align: right;\">\n",
              "      <th></th>\n",
              "      <th>Name</th>\n",
              "      <th>Score</th>\n",
              "    </tr>\n",
              "  </thead>\n",
              "  <tbody>\n",
              "    <tr>\n",
              "      <th>0</th>\n",
              "      <td>Alice</td>\n",
              "      <td>85</td>\n",
              "    </tr>\n",
              "    <tr>\n",
              "      <th>1</th>\n",
              "      <td>Bob</td>\n",
              "      <td>72</td>\n",
              "    </tr>\n",
              "    <tr>\n",
              "      <th>2</th>\n",
              "      <td>Charlie</td>\n",
              "      <td>90</td>\n",
              "    </tr>\n",
              "    <tr>\n",
              "      <th>3</th>\n",
              "      <td>David</td>\n",
              "      <td>65</td>\n",
              "    </tr>\n",
              "    <tr>\n",
              "      <th>4</th>\n",
              "      <td>Emma</td>\n",
              "      <td>78</td>\n",
              "    </tr>\n",
              "  </tbody>\n",
              "</table>\n",
              "</div>"
            ],
            "text/plain": [
              "      Name  Score\n",
              "0    Alice     85\n",
              "1      Bob     72\n",
              "2  Charlie     90\n",
              "3    David     65\n",
              "4     Emma     78"
            ]
          },
          "execution_count": 6,
          "metadata": {},
          "output_type": "execute_result"
        }
      ],
      "source": [
        "# Task 5: Load Dataset\n",
        "# Import required libraries\n",
        "import pandas as pd\n",
        "\n",
        "# Write your code here\n",
        "df = pd.read_csv('student_scores.csv')\n",
        "df.head()"
      ]
    },
    {
      "cell_type": "markdown",
      "metadata": {},
      "source": [
        "## Task 6 – Summary Statistics\n",
        "\n",
        "Print the average (mean) of the `Score` column.\n",
        "\n",
        "Print the minimum and maximum scores.\n"
      ]
    },
    {
      "cell_type": "code",
      "execution_count": 11,
      "metadata": {},
      "outputs": [
        {
          "name": "stdout",
          "output_type": "stream",
          "text": [
            "Averafe score:  78.0\n",
            "Max score:  92\n",
            "Min score:  55\n"
          ]
        }
      ],
      "source": [
        "# Task 6: Summary Statistics\n",
        "# Write your code here\n",
        "print(\"Averafe score: \", df['Score'].mean())\n",
        "print(\"Max score: \", df['Score'].max())\n",
        "print(\"Min score: \", df['Score'].min())"
      ]
    },
    {
      "cell_type": "markdown",
      "metadata": {},
      "source": [
        "## Task 7 – Filtering Data\n",
        "\n",
        "Find and print the names of students who scored greater than 80.\n"
      ]
    },
    {
      "cell_type": "code",
      "execution_count": 12,
      "metadata": {},
      "outputs": [
        {
          "data": {
            "text/html": [
              "<div>\n",
              "<style scoped>\n",
              "    .dataframe tbody tr th:only-of-type {\n",
              "        vertical-align: middle;\n",
              "    }\n",
              "\n",
              "    .dataframe tbody tr th {\n",
              "        vertical-align: top;\n",
              "    }\n",
              "\n",
              "    .dataframe thead th {\n",
              "        text-align: right;\n",
              "    }\n",
              "</style>\n",
              "<table border=\"1\" class=\"dataframe\">\n",
              "  <thead>\n",
              "    <tr style=\"text-align: right;\">\n",
              "      <th></th>\n",
              "      <th>Name</th>\n",
              "      <th>Score</th>\n",
              "    </tr>\n",
              "  </thead>\n",
              "  <tbody>\n",
              "    <tr>\n",
              "      <th>0</th>\n",
              "      <td>Alice</td>\n",
              "      <td>85</td>\n",
              "    </tr>\n",
              "    <tr>\n",
              "      <th>2</th>\n",
              "      <td>Charlie</td>\n",
              "      <td>90</td>\n",
              "    </tr>\n",
              "    <tr>\n",
              "      <th>6</th>\n",
              "      <td>Grace</td>\n",
              "      <td>92</td>\n",
              "    </tr>\n",
              "    <tr>\n",
              "      <th>7</th>\n",
              "      <td>Hannah</td>\n",
              "      <td>81</td>\n",
              "    </tr>\n",
              "    <tr>\n",
              "      <th>9</th>\n",
              "      <td>Julia</td>\n",
              "      <td>88</td>\n",
              "    </tr>\n",
              "  </tbody>\n",
              "</table>\n",
              "</div>"
            ],
            "text/plain": [
              "      Name  Score\n",
              "0    Alice     85\n",
              "2  Charlie     90\n",
              "6    Grace     92\n",
              "7   Hannah     81\n",
              "9    Julia     88"
            ]
          },
          "execution_count": 12,
          "metadata": {},
          "output_type": "execute_result"
        }
      ],
      "source": [
        "# Task 7: Filtering Data\n",
        "# Write your code here\n",
        "df_condition = df[df['Score'] > 80]\n",
        "df_condition"
      ]
    },
    {
      "cell_type": "markdown",
      "metadata": {},
      "source": [
        "## Task 8 – Sorting Data\n",
        "\n",
        "Sort the dataset by `Score` in descending order.\n",
        "\n",
        "Display the top 3 students.\n"
      ]
    },
    {
      "cell_type": "code",
      "execution_count": 15,
      "metadata": {},
      "outputs": [
        {
          "data": {
            "text/html": [
              "<div>\n",
              "<style scoped>\n",
              "    .dataframe tbody tr th:only-of-type {\n",
              "        vertical-align: middle;\n",
              "    }\n",
              "\n",
              "    .dataframe tbody tr th {\n",
              "        vertical-align: top;\n",
              "    }\n",
              "\n",
              "    .dataframe thead th {\n",
              "        text-align: right;\n",
              "    }\n",
              "</style>\n",
              "<table border=\"1\" class=\"dataframe\">\n",
              "  <thead>\n",
              "    <tr style=\"text-align: right;\">\n",
              "      <th></th>\n",
              "      <th>Name</th>\n",
              "      <th>Score</th>\n",
              "    </tr>\n",
              "  </thead>\n",
              "  <tbody>\n",
              "    <tr>\n",
              "      <th>6</th>\n",
              "      <td>Grace</td>\n",
              "      <td>92</td>\n",
              "    </tr>\n",
              "    <tr>\n",
              "      <th>2</th>\n",
              "      <td>Charlie</td>\n",
              "      <td>90</td>\n",
              "    </tr>\n",
              "    <tr>\n",
              "      <th>9</th>\n",
              "      <td>Julia</td>\n",
              "      <td>88</td>\n",
              "    </tr>\n",
              "    <tr>\n",
              "      <th>0</th>\n",
              "      <td>Alice</td>\n",
              "      <td>85</td>\n",
              "    </tr>\n",
              "    <tr>\n",
              "      <th>7</th>\n",
              "      <td>Hannah</td>\n",
              "      <td>81</td>\n",
              "    </tr>\n",
              "    <tr>\n",
              "      <th>4</th>\n",
              "      <td>Emma</td>\n",
              "      <td>78</td>\n",
              "    </tr>\n",
              "    <tr>\n",
              "      <th>8</th>\n",
              "      <td>Ian</td>\n",
              "      <td>74</td>\n",
              "    </tr>\n",
              "    <tr>\n",
              "      <th>1</th>\n",
              "      <td>Bob</td>\n",
              "      <td>72</td>\n",
              "    </tr>\n",
              "    <tr>\n",
              "      <th>3</th>\n",
              "      <td>David</td>\n",
              "      <td>65</td>\n",
              "    </tr>\n",
              "    <tr>\n",
              "      <th>5</th>\n",
              "      <td>Frank</td>\n",
              "      <td>55</td>\n",
              "    </tr>\n",
              "  </tbody>\n",
              "</table>\n",
              "</div>"
            ],
            "text/plain": [
              "      Name  Score\n",
              "6    Grace     92\n",
              "2  Charlie     90\n",
              "9    Julia     88\n",
              "0    Alice     85\n",
              "7   Hannah     81\n",
              "4     Emma     78\n",
              "8      Ian     74\n",
              "1      Bob     72\n",
              "3    David     65\n",
              "5    Frank     55"
            ]
          },
          "execution_count": 15,
          "metadata": {},
          "output_type": "execute_result"
        }
      ],
      "source": [
        "# Task 8: Sorting Data\n",
        "# Write your code here\n",
        "dfSort = df.copy()\n",
        "dfSort = dfSort.sort_values('Score',ascending=False)\n",
        "dfSort"
      ]
    },
    {
      "cell_type": "markdown",
      "metadata": {},
      "source": [
        "## Task 9 – Visualization\n",
        "\n",
        "Create a histogram of scores.\n",
        "\n",
        "Add appropriate title and axis labels.\n"
      ]
    },
    {
      "cell_type": "code",
      "execution_count": 27,
      "metadata": {},
      "outputs": [
        {
          "data": {
            "image/png": "[encoded data removed]",
            "text/plain": [
              "<Figure size 640x480 with 1 Axes>"
            ]
          },
          "metadata": {},
          "output_type": "display_data"
        }
      ],
      "source": [
        "# Task 9: Visualization\n",
        "# Write your code here\n",
        "import numpy as np\n",
        "scores = df['Score']\n",
        "scores = scores[(scores >= 50) & (scores <= 100)]\n",
        "iqr = np.subtract(*np.percentile(scores, [75, 25]))\n",
        "bin_width = 2 * iqr * (len(scores) ** (-1/3)) if len(scores) > 1 else 0\n",
        "bins = int(np.ceil((scores.max() - scores.min()) / bin_width)) if bin_width > 0 else 10\n",
        "bins = max(bins, 1)\n",
        "\n",
        "# 4) Plot & save\n",
        "plt.hist(scores, bins='auto', color='skyblue', edgecolor='black')\n",
        "plt.xlabel(\"Score\")\n",
        "plt.ylabel(\"Count\")\n",
        "plt.title(\"Histogram of Scores\")\n",
        "plt.show()\n"
      ]
    },
    {
      "cell_type": "markdown",
      "metadata": {},
      "source": [
        "---\n",
        "\n",
        "## Submission Notes\n",
        "\n",
        "- Ensure all cells run without errors\n",
        "- Include appropriate comments in your code\n",
        "- Make sure plots are properly displayed\n",
        "- Save and submit this notebook as `Week1_Tasks.ipynb`\n"
      ]
    }
  ],
  "metadata": {
    "kernelspec": {
      "display_name": "dias",
      "language": "python",
      "name": "python3"
    },
    "language_info": {
      "codemirror_mode": {
        "name": "ipython",
        "version": 3
      },
      "file_extension": ".py",
      "mimetype": "text/x-python",
      "name": "python",
      "nbconvert_exporter": "python",
      "pygments_lexer": "ipython3",
      "version": "3.10.10"
    }
  },
  "nbformat": 4,
  "nbformat_minor": 2
}
